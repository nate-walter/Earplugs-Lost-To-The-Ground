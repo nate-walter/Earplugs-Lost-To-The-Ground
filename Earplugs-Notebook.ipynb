{
 "cells": [
  {
   "cell_type": "code",
   "execution_count": 2,
   "id": "cb92832e",
   "metadata": {},
   "outputs": [],
   "source": [
    "import numpy as np\n",
    "import scipy.stats as stats\n",
    "import math"
   ]
  },
  {
   "cell_type": "markdown",
   "id": "f74a28fe",
   "metadata": {},
   "source": [
    "# Plano Molding Co. \n",
    "# Mendota, IL facility\n",
    "***"
   ]
  },
  {
   "cell_type": "markdown",
   "id": "65032d8c",
   "metadata": {},
   "source": [
    "## Earplug Dispensor \n",
    "### Moldex plugstation<br>\n",
    "\n",
    "***\n",
    "\n",
    "## Model of Earplugs\n",
    "### Sparkplugs<br>\n",
    "\n",
    "Part #6644 (slc 80, 29 db, Class 5 [describes decibal rating])<br>\n",
    "Noise reduction rating = 33 decibels<br>\n",
    "250 pair (or 500) per dispensor \n",
    "***"
   ]
  },
  {
   "cell_type": "markdown",
   "id": "264365fc",
   "metadata": {},
   "source": [
    "## Earplugs Company\n",
    "### Moldex-Metric, inc.\n",
    "10111 Jefferson blvd.<br>\n",
    "Culver City, CA<br>\n",
    "90232<br>\n",
    "Phone: 800.421.0668<br>\n",
    "Email: sales@moldex.com"
   ]
  },
  {
   "cell_type": "code",
   "execution_count": 3,
   "id": "61f41a34",
   "metadata": {},
   "outputs": [],
   "source": [
    "plugs = np.array([3, 4, 2, 2, 2, 2, 2, 2, 2, 4, \n",
    "    3, 2, 2, 2, 2, 2, 2, 2, 4, 2, 4, 4, 2, 3, 2, 2, 2, 4, 3,\n",
    "    2, 6, 2])\n",
    "\n",
    "plugs2 = np.array([3, 4, 2, 2, 2, 2, 2, 2, 2, 4, \n",
    "    3, 2, 2, 2, 2, 2, 2, 2, 4, 2, 4, 4, 2, 3, 2, 2, 2, 4, 3,\n",
    "    2, 6, 2])"
   ]
  },
  {
   "cell_type": "code",
   "execution_count": 4,
   "id": "fe381081",
   "metadata": {},
   "outputs": [
    {
     "name": "stdout",
     "output_type": "stream",
     "text": [
      "Yes\n"
     ]
    }
   ],
   "source": [
    "# double checking that the array was unchanged, because std was different \n",
    "# in the first draft\n",
    "\n",
    "from collections import defaultdict\n",
    "\n",
    "def are_equal(arr1, arr2, n, m):\n",
    "    if (n != m):\n",
    "        return False\n",
    "    \n",
    "    count = defaultdict(int)\n",
    "    \n",
    "    for i in arr1:\n",
    "        count[i] += 1\n",
    "        \n",
    "    for i in arr2:\n",
    "        \n",
    "        \n",
    "        if (count[i] ==0):\n",
    "            return False\n",
    "        else:\n",
    "            count[i] -= 1\n",
    "            \n",
    "    return True\n",
    "\n",
    "arr1 = plugs\n",
    "arr2 = plugs2\n",
    "\n",
    "n = len(arr1)\n",
    "m = len(arr2)\n",
    "\n",
    "if are_equal(arr1, arr2, n, m):\n",
    "    print(\"Yes\")\n",
    "    \n",
    "else:\n",
    "    print(\"No\")"
   ]
  },
  {
   "cell_type": "code",
   "execution_count": 5,
   "id": "2cfa009f",
   "metadata": {},
   "outputs": [
    {
     "name": "stdout",
     "output_type": "stream",
     "text": [
      "The average number of earplugs dispensed per attempt was 2.625\n"
     ]
    }
   ],
   "source": [
    "average = np.mean(plugs)\n",
    "print(f\"The average number of earplugs dispensed per attempt was {average}\")"
   ]
  },
  {
   "cell_type": "code",
   "execution_count": 6,
   "id": "a337fb05",
   "metadata": {},
   "outputs": [
    {
     "name": "stdout",
     "output_type": "stream",
     "text": [
      "The standard deviation of dispensed earplugs was 0.992\n"
     ]
    }
   ],
   "source": [
    "std = np.std(plugs)\n",
    "print(f\"The standard deviation of dispensed earplugs was {std:.3f}\")"
   ]
  }
 ],
 "metadata": {
  "kernelspec": {
   "display_name": "firstEnv",
   "language": "python",
   "name": "firstenv"
  },
  "language_info": {
   "codemirror_mode": {
    "name": "ipython",
    "version": 3
   },
   "file_extension": ".py",
   "mimetype": "text/x-python",
   "name": "python",
   "nbconvert_exporter": "python",
   "pygments_lexer": "ipython3",
   "version": "3.9.6"
  }
 },
 "nbformat": 4,
 "nbformat_minor": 5
}
