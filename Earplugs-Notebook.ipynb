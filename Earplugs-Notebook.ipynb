{
 "cells": [
  {
   "cell_type": "code",
   "execution_count": 6,
   "id": "8f994c88",
   "metadata": {},
   "outputs": [],
   "source": [
    "import numpy as np\n",
    "import scipy.stats as stats\n",
    "import math"
   ]
  },
  {
   "cell_type": "code",
   "execution_count": 26,
   "id": "251f0d5d",
   "metadata": {},
   "outputs": [],
   "source": [
    "plugs = np.array([3, 4, 2, 2, 2, 2, 2, 2, 2, 4, \n",
    "    3, 2, 2, 2, 2, 2, 2, 2, 4, 2, 4, 4, 2, 3, 2, 2, 2, 4, 3,\n",
    "    2, 6, 2])\n",
    "\n",
    "plugs2 = np.array([3, 4, 2, 2, 2, 2, 2, 2, 2, 4, \n",
    "    3, 2, 2, 2, 2, 2, 2, 2, 4, 2, 4, 4, 2, 3, 2, 2, 2, 4, 3,\n",
    "    2, 6, 2])"
   ]
  },
  {
   "cell_type": "code",
   "execution_count": 29,
   "id": "b9b265f0",
   "metadata": {},
   "outputs": [
    {
     "name": "stdout",
     "output_type": "stream",
     "text": [
      "Yes\n"
     ]
    }
   ],
   "source": [
    "# double checking that the array was unchanged, because std was different \n",
    "# in the first draft\n",
    "\n",
    "from collections import defaultdict\n",
    "\n",
    "def are_equal(arr1, arr2, n, m):\n",
    "    if (n != m):\n",
    "        return False\n",
    "    \n",
    "    count = defaultdict(int)\n",
    "    \n",
    "    for i in arr1:\n",
    "        count[i] += 1\n",
    "        \n",
    "    for i in arr2:\n",
    "        \n",
    "        \n",
    "        if (count[i] ==0):\n",
    "            return False\n",
    "        else:\n",
    "            count[i] -= 1\n",
    "            \n",
    "    return True\n",
    "\n",
    "arr1 = plugs\n",
    "arr2 = plugs2\n",
    "\n",
    "n = len(arr1)\n",
    "m = len(arr2)\n",
    "\n",
    "if are_equal(arr1, arr2, n, m):\n",
    "    print(\"Yes\")\n",
    "    \n",
    "else:\n",
    "    print(\"No\")"
   ]
  },
  {
   "cell_type": "code",
   "execution_count": 18,
   "id": "08b21f88",
   "metadata": {},
   "outputs": [
    {
     "name": "stdout",
     "output_type": "stream",
     "text": [
      "The average number of earplugs dispensed per attempt was 2.62\n"
     ]
    }
   ],
   "source": [
    "average = np.mean(plugs)\n",
    "print(f\"The average number of earplugs dispensed per attempt was {average}\")"
   ]
  },
  {
   "cell_type": "code",
   "execution_count": 31,
   "id": "a9114369",
   "metadata": {},
   "outputs": [
    {
     "name": "stdout",
     "output_type": "stream",
     "text": [
      "The standard deviation of dispensed earplugs was 0.992\n"
     ]
    }
   ],
   "source": [
    "std = np.std(plugs)\n",
    "print(f\"The standard deviation of dispensed earplugs was {std:.3f}\")"
   ]
  },
  {
   "cell_type": "code",
   "execution_count": null,
   "id": "8c72404f",
   "metadata": {},
   "outputs": [],
   "source": []
  }
 ],
 "metadata": {
  "kernelspec": {
   "display_name": "firstEnv",
   "language": "python",
   "name": "firstenv"
  },
  "language_info": {
   "codemirror_mode": {
    "name": "ipython",
    "version": 3
   },
   "file_extension": ".py",
   "mimetype": "text/x-python",
   "name": "python",
   "nbconvert_exporter": "python",
   "pygments_lexer": "ipython3",
   "version": "3.9.6"
  }
 },
 "nbformat": 4,
 "nbformat_minor": 5
}
